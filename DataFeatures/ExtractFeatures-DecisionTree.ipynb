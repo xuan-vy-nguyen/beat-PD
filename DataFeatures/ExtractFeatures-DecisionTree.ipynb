{
  "nbformat": 4,
  "nbformat_minor": 0,
  "metadata": {
    "colab": {
      "name": "ExtractingFeatures.ipynb",
      "provenance": [],
      "collapsed_sections": [
        "mMFjMLwH9Lfs"
      ],
      "toc_visible": true
    },
    "kernelspec": {
      "name": "python3",
      "display_name": "Python 3"
    }
  },
  "cells": [
    {
      "cell_type": "code",
      "metadata": {
        "id": "CyMQU3QL0Hd5",
        "colab_type": "code",
        "colab": {}
      },
      "source": [
        "import numpy as np\n",
        "import pandas as pd\n",
        "import matplotlib as mpl\n",
        "import matplotlib.pyplot as plt\n",
        "import seaborn as sns\n",
        "from tqdm import tqdm\n",
        "\n",
        "from sklearn.model_selection import train_test_split\n",
        "from sklearn.preprocessing import StandardScaler\n",
        "from sklearn.cluster import DBSCAN\n",
        "\n",
        "%matplotlib inline"
      ],
      "execution_count": 0,
      "outputs": []
    },
    {
      "cell_type": "code",
      "metadata": {
        "id": "smlpzxtY0QrR",
        "colab_type": "code",
        "outputId": "b56eb9dc-4bc5-4703-f136-0a7afffa8311",
        "colab": {
          "base_uri": "https://localhost:8080/",
          "height": 204
        }
      },
      "source": [
        "label_df = pd.read_csv('/content/drive/My Drive/Beat-PD/Train_Dataset/Data_Train_CIS-PD/Data_Train_CIS-PD/cis-pd.data_labels/data_labels/CIS-PD_Training_Data_IDs_Labels.csv')\n",
        "label_df.dropna(axis=0, inplace=True)\n",
        "label_df.head()"
      ],
      "execution_count": 0,
      "outputs": [
        {
          "output_type": "execute_result",
          "data": {
            "text/html": [
              "<div>\n",
              "<style scoped>\n",
              "    .dataframe tbody tr th:only-of-type {\n",
              "        vertical-align: middle;\n",
              "    }\n",
              "\n",
              "    .dataframe tbody tr th {\n",
              "        vertical-align: top;\n",
              "    }\n",
              "\n",
              "    .dataframe thead th {\n",
              "        text-align: right;\n",
              "    }\n",
              "</style>\n",
              "<table border=\"1\" class=\"dataframe\">\n",
              "  <thead>\n",
              "    <tr style=\"text-align: right;\">\n",
              "      <th></th>\n",
              "      <th>measurement_id</th>\n",
              "      <th>subject_id</th>\n",
              "      <th>on_off</th>\n",
              "      <th>dyskinesia</th>\n",
              "      <th>tremor</th>\n",
              "    </tr>\n",
              "  </thead>\n",
              "  <tbody>\n",
              "    <tr>\n",
              "      <th>0</th>\n",
              "      <td>cc7b822c-e310-46f0-a8ea-98c95fdb67a1</td>\n",
              "      <td>1004</td>\n",
              "      <td>1.0</td>\n",
              "      <td>1.0</td>\n",
              "      <td>1.0</td>\n",
              "    </tr>\n",
              "    <tr>\n",
              "      <th>1</th>\n",
              "      <td>5163afe8-a6b0-4ea4-b2ba-9b4501dd5912</td>\n",
              "      <td>1004</td>\n",
              "      <td>0.0</td>\n",
              "      <td>0.0</td>\n",
              "      <td>0.0</td>\n",
              "    </tr>\n",
              "    <tr>\n",
              "      <th>2</th>\n",
              "      <td>5cf68c8e-0b7a-4b73-ad4f-015c7a20fb5a</td>\n",
              "      <td>1004</td>\n",
              "      <td>1.0</td>\n",
              "      <td>1.0</td>\n",
              "      <td>1.0</td>\n",
              "    </tr>\n",
              "    <tr>\n",
              "      <th>3</th>\n",
              "      <td>fb188ae2-2173-4137-9236-19a137a402c2</td>\n",
              "      <td>1004</td>\n",
              "      <td>3.0</td>\n",
              "      <td>3.0</td>\n",
              "      <td>3.0</td>\n",
              "    </tr>\n",
              "    <tr>\n",
              "      <th>4</th>\n",
              "      <td>19a3e9ea-fce1-40b7-9457-2618970beb7b</td>\n",
              "      <td>1004</td>\n",
              "      <td>1.0</td>\n",
              "      <td>1.0</td>\n",
              "      <td>1.0</td>\n",
              "    </tr>\n",
              "  </tbody>\n",
              "</table>\n",
              "</div>"
            ],
            "text/plain": [
              "                         measurement_id  subject_id  on_off  dyskinesia  tremor\n",
              "0  cc7b822c-e310-46f0-a8ea-98c95fdb67a1        1004     1.0         1.0     1.0\n",
              "1  5163afe8-a6b0-4ea4-b2ba-9b4501dd5912        1004     0.0         0.0     0.0\n",
              "2  5cf68c8e-0b7a-4b73-ad4f-015c7a20fb5a        1004     1.0         1.0     1.0\n",
              "3  fb188ae2-2173-4137-9236-19a137a402c2        1004     3.0         3.0     3.0\n",
              "4  19a3e9ea-fce1-40b7-9457-2618970beb7b        1004     1.0         1.0     1.0"
            ]
          },
          "metadata": {
            "tags": []
          },
          "execution_count": 2
        }
      ]
    },
    {
      "cell_type": "markdown",
      "metadata": {
        "id": "iPgj0wk93Yec",
        "colab_type": "text"
      },
      "source": [
        "# Split Dataset"
      ]
    },
    {
      "cell_type": "code",
      "metadata": {
        "id": "VeGdIfV53aJ5",
        "colab_type": "code",
        "outputId": "23a5a0c9-3ba8-4612-f64a-7b4bbfa33c28",
        "colab": {
          "base_uri": "https://localhost:8080/",
          "height": 204
        }
      },
      "source": [
        "train_df, test_df = train_test_split(label_df, shuffle=False, test_size = 0.2)\n",
        "train_df.head()"
      ],
      "execution_count": 0,
      "outputs": [
        {
          "output_type": "execute_result",
          "data": {
            "text/html": [
              "<div>\n",
              "<style scoped>\n",
              "    .dataframe tbody tr th:only-of-type {\n",
              "        vertical-align: middle;\n",
              "    }\n",
              "\n",
              "    .dataframe tbody tr th {\n",
              "        vertical-align: top;\n",
              "    }\n",
              "\n",
              "    .dataframe thead th {\n",
              "        text-align: right;\n",
              "    }\n",
              "</style>\n",
              "<table border=\"1\" class=\"dataframe\">\n",
              "  <thead>\n",
              "    <tr style=\"text-align: right;\">\n",
              "      <th></th>\n",
              "      <th>measurement_id</th>\n",
              "      <th>subject_id</th>\n",
              "      <th>on_off</th>\n",
              "      <th>dyskinesia</th>\n",
              "      <th>tremor</th>\n",
              "    </tr>\n",
              "  </thead>\n",
              "  <tbody>\n",
              "    <tr>\n",
              "      <th>0</th>\n",
              "      <td>cc7b822c-e310-46f0-a8ea-98c95fdb67a1</td>\n",
              "      <td>1004</td>\n",
              "      <td>1.0</td>\n",
              "      <td>1.0</td>\n",
              "      <td>1.0</td>\n",
              "    </tr>\n",
              "    <tr>\n",
              "      <th>1</th>\n",
              "      <td>5163afe8-a6b0-4ea4-b2ba-9b4501dd5912</td>\n",
              "      <td>1004</td>\n",
              "      <td>0.0</td>\n",
              "      <td>0.0</td>\n",
              "      <td>0.0</td>\n",
              "    </tr>\n",
              "    <tr>\n",
              "      <th>2</th>\n",
              "      <td>5cf68c8e-0b7a-4b73-ad4f-015c7a20fb5a</td>\n",
              "      <td>1004</td>\n",
              "      <td>1.0</td>\n",
              "      <td>1.0</td>\n",
              "      <td>1.0</td>\n",
              "    </tr>\n",
              "    <tr>\n",
              "      <th>3</th>\n",
              "      <td>fb188ae2-2173-4137-9236-19a137a402c2</td>\n",
              "      <td>1004</td>\n",
              "      <td>3.0</td>\n",
              "      <td>3.0</td>\n",
              "      <td>3.0</td>\n",
              "    </tr>\n",
              "    <tr>\n",
              "      <th>4</th>\n",
              "      <td>19a3e9ea-fce1-40b7-9457-2618970beb7b</td>\n",
              "      <td>1004</td>\n",
              "      <td>1.0</td>\n",
              "      <td>1.0</td>\n",
              "      <td>1.0</td>\n",
              "    </tr>\n",
              "  </tbody>\n",
              "</table>\n",
              "</div>"
            ],
            "text/plain": [
              "                         measurement_id  subject_id  on_off  dyskinesia  tremor\n",
              "0  cc7b822c-e310-46f0-a8ea-98c95fdb67a1        1004     1.0         1.0     1.0\n",
              "1  5163afe8-a6b0-4ea4-b2ba-9b4501dd5912        1004     0.0         0.0     0.0\n",
              "2  5cf68c8e-0b7a-4b73-ad4f-015c7a20fb5a        1004     1.0         1.0     1.0\n",
              "3  fb188ae2-2173-4137-9236-19a137a402c2        1004     3.0         3.0     3.0\n",
              "4  19a3e9ea-fce1-40b7-9457-2618970beb7b        1004     1.0         1.0     1.0"
            ]
          },
          "metadata": {
            "tags": []
          },
          "execution_count": 3
        }
      ]
    },
    {
      "cell_type": "markdown",
      "metadata": {
        "id": "mMFjMLwH9Lfs",
        "colab_type": "text"
      },
      "source": [
        "# Get Train-Test dataset"
      ]
    },
    {
      "cell_type": "code",
      "metadata": {
        "id": "iOTj674B0wTp",
        "colab_type": "code",
        "colab": {}
      },
      "source": [
        "TRAIN_PATH = '/content/drive/My Drive/Beat-PD/Train_Dataset/Data_Train_CIS-PD/Data_Train_CIS-PD/cis-pd.training_data/training_data/' \n",
        "def get_data(i, row, train_path):\n",
        "  df = pd.read_csv(train_path + row['measurement_id'] + '.csv')\n",
        "  X = pd.DataFrame()\n",
        "  X['Timestamp'] = df['Timestamp']\n",
        "  X['3D'] = (df['X']**2 + df['Y']**2 + df['Z']**2)**(1/2)\n",
        "  y = row[['subject_id', 'on_off', 'dyskinesia', 'tremor']]\n",
        "\n",
        "  del df\n",
        "  return X, y"
      ],
      "execution_count": 0,
      "outputs": []
    },
    {
      "cell_type": "code",
      "metadata": {
        "id": "boIHnOD32mVk",
        "colab_type": "code",
        "outputId": "2d6fe8de-55a2-44a3-b796-75714cb2e725",
        "colab": {
          "base_uri": "https://localhost:8080/",
          "height": 34
        }
      },
      "source": [
        "X_train = []\n",
        "y_train = []\n",
        "for i, row in tqdm(train_df.iterrows()):\n",
        "  X, y = get_data(i, row, TRAIN_PATH)\n",
        "  X_train.append(X)\n",
        "  y_train.append(y)\n"
      ],
      "execution_count": 0,
      "outputs": [
        {
          "output_type": "stream",
          "text": [
            "770it [00:48, 15.98it/s]\n"
          ],
          "name": "stderr"
        }
      ]
    },
    {
      "cell_type": "code",
      "metadata": {
        "id": "aVDj3dKT-_Yi",
        "colab_type": "code",
        "outputId": "4bf09141-6489-4f9e-a73c-d7112392656b",
        "colab": {
          "base_uri": "https://localhost:8080/",
          "height": 34
        }
      },
      "source": [
        "X_test = []\n",
        "y_test = []\n",
        "for i, row in tqdm(test_df.iterrows()):\n",
        "  X, y = get_data(i, row, TRAIN_PATH)\n",
        "  X_test.append(X)\n",
        "  y_test.append(y)"
      ],
      "execution_count": 0,
      "outputs": [
        {
          "output_type": "stream",
          "text": [
            "193it [00:11, 16.34it/s]\n"
          ],
          "name": "stderr"
        }
      ]
    },
    {
      "cell_type": "code",
      "metadata": {
        "id": "VibZ9eSUC3XA",
        "colab_type": "code",
        "outputId": "0506fc7b-6bb0-4054-9fa4-4dc9f0feae24",
        "colab": {
          "base_uri": "https://localhost:8080/",
          "height": 34
        }
      },
      "source": [
        "print('size of train_data: {}; size of test_data: {}'.format(len(X_train), len(X_test)))"
      ],
      "execution_count": 0,
      "outputs": [
        {
          "output_type": "stream",
          "text": [
            "size of train_data: 770; size of test_data: 193\n"
          ],
          "name": "stdout"
        }
      ]
    },
    {
      "cell_type": "markdown",
      "metadata": {
        "id": "XdADqKjH0oTk",
        "colab_type": "text"
      },
      "source": [
        "# Detect and remove Noise using DBSCAN"
      ]
    },
    {
      "cell_type": "code",
      "metadata": {
        "id": "YmoxQhqIa6nA",
        "colab_type": "code",
        "colab": {}
      },
      "source": [
        "epsilon = 0.8 # for DBSCAN\n",
        "min_samples = 5 # for DBSCAN"
      ],
      "execution_count": 0,
      "outputs": []
    },
    {
      "cell_type": "code",
      "metadata": {
        "id": "JEMvi5VVYrTu",
        "colab_type": "code",
        "colab": {}
      },
      "source": [
        "def remove_noise(X_df):\n",
        "  db = DBSCAN(eps = epsilon, min_samples=min_samples).fit(X_df)\n",
        "  X_df_removed = X_df.loc[db.core_sample_indices_]\n",
        "  X_df_removed.reset_index()\n",
        "  \n",
        "  del db\n",
        "  return X_df_removed"
      ],
      "execution_count": 0,
      "outputs": []
    },
    {
      "cell_type": "code",
      "metadata": {
        "id": "GI4cLUG9MCVJ",
        "colab_type": "code",
        "colab": {}
      },
      "source": [
        "def view_DBSCAN(X_df, y):\n",
        "    print(y)\n",
        "    db = DBSCAN(eps = epsilon, min_samples = min_samples).fit(X_df)\n",
        "    labels = db.labels_\n",
        "\n",
        "    core_samples_mask = np.zeros_like(db.labels_, dtype=bool)\n",
        "    core_samples_mask[db.core_sample_indices_] = True\n",
        "\n",
        "    n_clusters_ = len(set(labels)) - (1 if -1 in labels else 0)\n",
        "\n",
        "    unique_labels = set(labels)\n",
        "    colors = plt.cm.Spectral(np.linspace(0, 1, len(unique_labels)))\n",
        "\n",
        "    plt.figure(figsize=(20, 5))\n",
        "\n",
        "    # Plot the points with colors\n",
        "    for k, col in zip(unique_labels, colors):\n",
        "        if k == -1:\n",
        "            # Black used for noise.\n",
        "            col = 'k'\n",
        "\n",
        "        class_member_mask = (labels == k)\n",
        "\n",
        "        # Plot the datapoints that are clustered\n",
        "        xy = X_df.loc[class_member_mask & core_samples_mask]\n",
        "        plt.scatter(xy['Timestamp'], xy['3D'],s=50, c=[col], marker=u'.', alpha=1)\n",
        "\n",
        "        # Plot the outliers\n",
        "        xy = X_df.loc[class_member_mask & ~core_samples_mask]\n",
        "        plt.scatter(xy['Timestamp'], xy['3D'],s=50, c=[col], marker=u'.', alpha=1)\n",
        "    plt.show()"
      ],
      "execution_count": 0,
      "outputs": []
    },
    {
      "cell_type": "markdown",
      "metadata": {
        "id": "KE9Gkr7octYK",
        "colab_type": "text"
      },
      "source": [
        "View some chart and compare"
      ]
    },
    {
      "cell_type": "code",
      "metadata": {
        "id": "PTTmjl6wbGlu",
        "colab_type": "code",
        "colab": {}
      },
      "source": [
        "# kk = 0\n",
        "# view_DBSCAN(X_train[kk], y_train[kk])"
      ],
      "execution_count": 0,
      "outputs": []
    },
    {
      "cell_type": "code",
      "metadata": {
        "id": "ihda8XbUbQRm",
        "colab_type": "code",
        "colab": {}
      },
      "source": [
        "# vs = remove_noise(X_train[kk])\n",
        "# view_DBSCAN(vs, y_train[kk])"
      ],
      "execution_count": 0,
      "outputs": []
    },
    {
      "cell_type": "markdown",
      "metadata": {
        "id": "AZkD6K8ldRVQ",
        "colab_type": "text"
      },
      "source": [
        "Now it's time for remove noise"
      ]
    },
    {
      "cell_type": "code",
      "metadata": {
        "id": "12UUbzI9cZ8u",
        "colab_type": "code",
        "outputId": "977933dc-f8b2-4a4a-a101-e8966b977fc9",
        "colab": {
          "base_uri": "https://localhost:8080/",
          "height": 34
        }
      },
      "source": [
        "for i in tqdm(range(len(X_train))):\n",
        "    X_train[i] = remove_noise(X_train[i])"
      ],
      "execution_count": 0,
      "outputs": [
        {
          "output_type": "stream",
          "text": [
            "100%|██████████| 770/770 [1:07:39<00:00,  4.97s/it]\n"
          ],
          "name": "stderr"
        }
      ]
    },
    {
      "cell_type": "code",
      "metadata": {
        "id": "ZuTGdFDydCBE",
        "colab_type": "code",
        "outputId": "173122f9-5317-425f-a277-4e13ae812fd6",
        "colab": {
          "base_uri": "https://localhost:8080/",
          "height": 34
        }
      },
      "source": [
        "for i in tqdm(range(len(X_test))):\n",
        "    X_test[i] = remove_noise(X_test[i])"
      ],
      "execution_count": 0,
      "outputs": [
        {
          "output_type": "stream",
          "text": [
            "100%|██████████| 193/193 [16:13<00:00,  5.45s/it]\n"
          ],
          "name": "stderr"
        }
      ]
    },
    {
      "cell_type": "markdown",
      "metadata": {
        "id": "WYc0F-taiTYQ",
        "colab_type": "text"
      },
      "source": [
        "# Extract Features"
      ]
    },
    {
      "cell_type": "markdown",
      "metadata": {
        "id": "Vo5hdNxNdVEl",
        "colab_type": "text"
      },
      "source": [
        "## Get mean and std of First 50 and Last 50 items of records."
      ]
    },
    {
      "cell_type": "code",
      "metadata": {
        "id": "ilTfh69qhZwT",
        "colab_type": "code",
        "colab": {}
      },
      "source": [
        "def get_mean_std_head_tail(X_df):\n",
        "    len_X_df = X_df.shape[0]\n",
        "    head = X_df.loc[0:49]\n",
        "    tail = X_df.loc[len_X_df-50:len_X_df]\n",
        "    return np.mean(head['3D']), np.std(head['3D']), np.mean(tail['3D']), np.std(tail['3D'])"
      ],
      "execution_count": 0,
      "outputs": []
    },
    {
      "cell_type": "markdown",
      "metadata": {
        "id": "xUIunYnyeDCk",
        "colab_type": "text"
      },
      "source": [
        "## Get mean and std of top 10 minimum values."
      ]
    },
    {
      "cell_type": "code",
      "metadata": {
        "id": "kKjJ4Pq_ePBB",
        "colab_type": "code",
        "outputId": "2627b6dd-0f1a-47fc-9abd-b67826990c46",
        "colab": {
          "base_uri": "https://localhost:8080/",
          "height": 34
        }
      },
      "source": [
        "def get_mean_std_minvalues(X_df):\n",
        "    list_values = np.sort(X_df['3D'])[0:8]\n",
        "    return list_values.mean(), list_values.std()"
      ],
      "execution_count": 0,
      "outputs": [
        {
          "output_type": "execute_result",
          "data": {
            "text/plain": [
              "(0.5071053246678111, 0.04574199564580611)"
            ]
          },
          "metadata": {
            "tags": []
          },
          "execution_count": 17
        }
      ]
    },
    {
      "cell_type": "markdown",
      "metadata": {
        "id": "2-tzotFEeOR1",
        "colab_type": "text"
      },
      "source": [
        "## Get mean & std of minimum/maximum width of values in 2s (100 items)\n"
      ]
    },
    {
      "cell_type": "markdown",
      "metadata": {
        "id": "ysgMqGjX2AbL",
        "colab_type": "text"
      },
      "source": [
        "Because It is to long, I set this ranger is 0 -> min(len_X_df, 20 000)"
      ]
    },
    {
      "cell_type": "code",
      "metadata": {
        "id": "KnTDUsC2x0qe",
        "colab_type": "code",
        "colab": {}
      },
      "source": [
        "RANGER = 200\n",
        "def get_minmax_std_values(X_df, ranger):\n",
        "    max_mean, max_std, min_mean, min_std = 0, 0, 10, 10 # init values\n",
        "    for i in range(RANGER-1, min(X_df.shape[0], 20000)):\n",
        "        list_values = X_df['3D'].loc[i-RANGER+1:i]\n",
        "        mean_, std_ = np.mean(list_values), np.std(list_values)\n",
        "        \n",
        "        if std_ > max_std:\n",
        "            max_mean = mean_\n",
        "            max_std = std_\n",
        "\n",
        "        if  std_ < min_std:\n",
        "            min_mean = mean_\n",
        "            min_std = std_\n",
        "    return max_mean, max_std, min_mean, min_std"
      ],
      "execution_count": 0,
      "outputs": []
    },
    {
      "cell_type": "markdown",
      "metadata": {
        "id": "4Nagi17p25q1",
        "colab_type": "text"
      },
      "source": [
        "## Extract features to DataFrame"
      ]
    },
    {
      "cell_type": "code",
      "metadata": {
        "id": "NDNioEkQ28er",
        "colab_type": "code",
        "colab": {}
      },
      "source": [
        "def get_X_features(X_df):\n",
        "    X_features = pd.DataFrame({\n",
        "        'mean_head': [],\n",
        "        'std_head': [],\n",
        "        'mean_tail': [],\n",
        "        'std_tail': [],\n",
        "        'mean_minvalues': [],\n",
        "        'std_minvalues': [],\n",
        "        'mean_maxwidth': [],\n",
        "        'std_maxwidth': [],\n",
        "        'mean_minwidth': [],\n",
        "        'std_minwidth': []\n",
        "    })\n",
        "\n",
        "    for i in tqdm(range(len(X_df))):\n",
        "        a, b, c, d = get_mean_std_head_tail(X_df[i])\n",
        "        e, f = get_mean_std_minvalues(X_df[i])\n",
        "        g, h, ik, k = get_minmax_std_values(X_df[i], RANGER)\n",
        "        X_features.loc[i] = [a,b,c,d,e,f,g,h,ik,k]\n",
        "\n",
        "    X_features.reset_index()\n",
        "    return X_features"
      ],
      "execution_count": 0,
      "outputs": []
    },
    {
      "cell_type": "code",
      "metadata": {
        "id": "uJTKh6wlk2bF",
        "colab_type": "code",
        "colab": {}
      },
      "source": [
        "X_features_train = get_X_features(X_train)"
      ],
      "execution_count": 0,
      "outputs": []
    },
    {
      "cell_type": "code",
      "metadata": {
        "id": "IqgfAXamkYYH",
        "colab_type": "code",
        "outputId": "eff2916b-0411-428a-c851-bde02495d5ae",
        "colab": {
          "base_uri": "https://localhost:8080/",
          "height": 34
        }
      },
      "source": [
        "X_features_test = get_X_features(X_test)"
      ],
      "execution_count": 0,
      "outputs": [
        {
          "output_type": "stream",
          "text": [
            "100%|██████████| 193/193 [16:53<00:00,  5.15s/it]\n"
          ],
          "name": "stderr"
        }
      ]
    },
    {
      "cell_type": "markdown",
      "metadata": {
        "id": "lG0hgsjxfGo9",
        "colab_type": "text"
      },
      "source": [
        "# Save to csv"
      ]
    },
    {
      "cell_type": "code",
      "metadata": {
        "id": "kr4PIqi69HQP",
        "colab_type": "code",
        "colab": {}
      },
      "source": [
        "X_features_train.to_csv('/content/drive/My Drive/Beat-PD/DecisionTree/PreProcessing.csv')"
      ],
      "execution_count": 0,
      "outputs": []
    },
    {
      "cell_type": "code",
      "metadata": {
        "id": "xfhOHooGk7ag",
        "colab_type": "code",
        "colab": {}
      },
      "source": [
        "X_features_test.to_csv('/content/drive/My Drive/Beat-PD/DecisionTree/Test_preproc.csv')"
      ],
      "execution_count": 0,
      "outputs": []
    },
    {
      "cell_type": "code",
      "metadata": {
        "id": "_DZp7-Gy_TOc",
        "colab_type": "code",
        "colab": {}
      },
      "source": [
        "y_train_np = np.array(y_train)\n",
        "y_train_df = pd.DataFrame({\"subject_id\": y_train_np.T[0], \"on_off\":y_train_np.T[1], \"dyskinesia\":y_train_np.T[2], \"tremor\":y_train_np.T[3]})\n",
        "y_train_df.to_csv('/content/drive/My Drive/Beat-PD/DecisionTree/PreProcessing_labels.csv')"
      ],
      "execution_count": 0,
      "outputs": []
    },
    {
      "cell_type": "code",
      "metadata": {
        "id": "OmgVoe3nArhC",
        "colab_type": "code",
        "colab": {}
      },
      "source": [
        "y_test_np = np.array(y_test)\n",
        "y_test_df = pd.DataFrame({\"subject_id\": y_test_np.T[0], \"on_off\":y_test_np.T[1], \"dyskinesia\":y_test_np.T[2], \"tremor\":y_test_np.T[3]})\n",
        "y_test_df.to_csv('/content/drive/My Drive/Beat-PD/DecisionTree/Test_preproc_labels.csv')"
      ],
      "execution_count": 0,
      "outputs": []
    }
  ]
}